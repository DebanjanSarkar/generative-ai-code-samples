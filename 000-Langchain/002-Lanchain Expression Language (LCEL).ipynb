{
 "cells": [
  {
   "cell_type": "markdown",
   "id": "8b4dcd00-92da-4512-8660-48915efb365b",
   "metadata": {},
   "source": [
    "<h1><center>LangChain Expression Language - LCEL</center></h1>\n",
    "<hr><hr>\n",
    "LCEL makes it easy to build complex chains from basic components, and supports out of the box functionality such as streaming, parallelism, and logging."
   ]
  },
  {
   "cell_type": "markdown",
   "id": "597036d5-ed6d-428e-865e-cf6e941a9f83",
   "metadata": {},
   "source": [
    "### Configurations:-\n",
    "---------------------"
   ]
  },
  {
   "cell_type": "code",
   "execution_count": 1,
   "id": "4a6e6931-4c91-491b-8244-a06f57da92c8",
   "metadata": {},
   "outputs": [
    {
     "data": {
      "text/plain": [
       "True"
      ]
     },
     "execution_count": 1,
     "metadata": {},
     "output_type": "execute_result"
    }
   ],
   "source": [
    "import os\n",
    "from dotenv import load_dotenv\n",
    "\n",
    "load_dotenv()"
   ]
  },
  {
   "cell_type": "code",
   "execution_count": 2,
   "id": "48823d1d-e7c1-4202-a356-9b176aff49ce",
   "metadata": {},
   "outputs": [],
   "source": [
    "azure_endpoint = os.getenv(\"AZURE_OPENAI_ENDPOINT\")\n",
    "azure_openai_api_key = os.getenv(\"AZURE_OPENAI_KEY\")\n",
    "azure_openai_api_version = \"2023-05-15\"\n",
    "llm_deployment_name = os.getenv(\"GPT_DEPLOYMENT_NAME\")\n",
    "\n",
    "os.environ[\"OPENAI_API_TYPE\"]     = \"azure\"\n",
    "os.environ[\"OPENAI_API_VERSION\"]  = azure_openai_api_version\n",
    "os.environ[\"OPENAI_API_KEY\"]      = azure_openai_api_key"
   ]
  },
  {
   "cell_type": "markdown",
   "id": "ef834fcd-25d6-42ee-a9d9-56c7a969cc45",
   "metadata": {},
   "source": [
    "## Basic example: prompt + model + output parser\n",
    "---------------------------------------------------\n",
    "The most basic and common use case is chaining a prompt template and a model together. To see how this works, let’s create a chain that takes a topic and generates a joke:"
   ]
  },
  {
   "cell_type": "code",
   "execution_count": 3,
   "id": "2c221cc9-8572-4bc2-8b9c-56eeaf508097",
   "metadata": {},
   "outputs": [],
   "source": [
    "from langchain_openai import AzureChatOpenAI\n",
    "\n",
    "chat_model = AzureChatOpenAI(\n",
    "    openai_api_version=azure_openai_api_version,\n",
    "    azure_deployment=llm_deployment_name,\n",
    ")"
   ]
  },
  {
   "cell_type": "code",
   "execution_count": 4,
   "id": "5c70994a-b84b-443d-bc09-c20816f45498",
   "metadata": {},
   "outputs": [],
   "source": [
    "from langchain_core.prompts import ChatPromptTemplate\n",
    "from langchain_core.output_parsers import StrOutputParser\n",
    "\n",
    "joke_prompt = ChatPromptTemplate.from_template(\"\"\"Tell me a joke about {joke_topic}\"\"\")\n",
    "op_parser = StrOutputParser()\n",
    "\n",
    "chain = joke_prompt | chat_model | op_parser"
   ]
  },
  {
   "cell_type": "code",
   "execution_count": null,
   "id": "bcdbc0eb-17f0-44b9-91d0-d339d8e6b7c0",
   "metadata": {},
   "outputs": [],
   "source": [
    "response = chain.invoke(  )"
   ]
  }
 ],
 "metadata": {
  "kernelspec": {
   "display_name": "Python 3 (ipykernel)",
   "language": "python",
   "name": "python3"
  },
  "language_info": {
   "codemirror_mode": {
    "name": "ipython",
    "version": 3
   },
   "file_extension": ".py",
   "mimetype": "text/x-python",
   "name": "python",
   "nbconvert_exporter": "python",
   "pygments_lexer": "ipython3",
   "version": "3.10.6"
  }
 },
 "nbformat": 4,
 "nbformat_minor": 5
}
