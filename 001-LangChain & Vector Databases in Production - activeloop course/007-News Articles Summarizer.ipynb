{
 "cells": [
  {
   "cell_type": "markdown",
   "id": "6d5229f3-62da-4c43-bf6b-52ba9d7b24c5",
   "metadata": {},
   "source": [
    "<h1><center>Build a News Articles Summarizer</center></h1>\n",
    "<hr><hr><hr>\n",
    "<h3>Introduction</h3>\n",
    "In today's fast-paced world, it's essential to stay updated with the latest news and information. However, going through multiple news articles can be time-consuming. To help you save time and get a quick overview of the important points, let’s develop a News Articles Summarizer application using ChatGPT and LangChain. With this powerful tool, we can scrape online articles, extract their titles and text, and generate concise summaries. Within this lesson, we will walk you through the workflow of constructing a summarizer.\n",
    "\n",
    "<h3>Workflow for Building a News Articles Summarizer</h3>\n",
    "<center><img src=\"./images/05-news article summarizer workflow.jpg\" width=\"1000px\"/></center>"
   ]
  },
  {
   "cell_type": "markdown",
   "id": "d22e1a63-f7b8-498b-9e31-f2ae74927321",
   "metadata": {},
   "source": [
    "### The steps described in more detail:\n",
    "------------------------------------------\n",
    "- **Install required libraries**: To get started, ensure you have the necessary libraries installed: `requests`, `newspaper3k`, and `langchain`.\n",
    "- **Scrape articles**: Use the `requests` library to scrape the content of the target news articles from their respective URLs.\n",
    "- **Extract titles and text**: Employ the newspaper library to parse the scraped HTML and extract the titles and text of the articles.\n",
    "- **Preprocess the text**: Clean and preprocess the extracted texts to make them suitable for input to GPT-3.5 model.\n",
    "- **Generate summaries**: Utilize GPT-3.5 to summarize the extracted articles' text concisely.\n",
    "- **Output the results**: Present the summaries along with the original titles, allowing users to grasp the main points of each article quickly."
   ]
  },
  {
   "cell_type": "code",
   "execution_count": null,
   "id": "263fb1e7-3a8b-490b-84b6-fa91badd5282",
   "metadata": {},
   "outputs": [],
   "source": []
  }
 ],
 "metadata": {
  "kernelspec": {
   "display_name": "Python 3 (ipykernel)",
   "language": "python",
   "name": "python3"
  },
  "language_info": {
   "codemirror_mode": {
    "name": "ipython",
    "version": 3
   },
   "file_extension": ".py",
   "mimetype": "text/x-python",
   "name": "python",
   "nbconvert_exporter": "python",
   "pygments_lexer": "ipython3",
   "version": "3.10.6"
  }
 },
 "nbformat": 4,
 "nbformat_minor": 5
}
