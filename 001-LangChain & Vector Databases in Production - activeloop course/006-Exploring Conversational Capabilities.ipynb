{
 "cells": [
  {
   "cell_type": "markdown",
   "id": "a60a4b12-eff5-4bcb-981a-b1afd27e44b6",
   "metadata": {},
   "source": [
    "<h1><center>Exploring Conversational Capabilities with GPT-4 and ChatGPT</center></h1>\n",
    "<hr><hr><hr>\n",
    "In this lesson, we will explore the benefits of using GPT-4 and ChatGPT, focusing on their ability to maintain context in conversations. We will demonstrate how these advanced language models can remember conversation history and respond accordingly, making them ideal for chat applications. Additionally, we will briefly discuss the improvements in GPT-4, such as longer context length and better generalization. By the end of this lesson, you should be able to understand how GPT-4 and ChatGPT can be used for context-aware chat applications via the API, as opposed to just using the OpenAI ChatGPT webpage. \n",
    "\n",
    "As mentioned before, OpenAI's GPT-4 represents a significant advancement in the field of large language models. Among its many improvements are enhanced creativity, the ability to process visual input, and an extended contextual understanding. In the realm of conversational AI, both GPT-4 and ChatGPT use the Transformers architecture at their core and are fine-tuned to hold natural dialogue with a user. While the free version of ChatGPT relies on GPT-3, the premium offering, ChatGPT Plus, gives access to the more advanced GPT-4 model.\n",
    "\n",
    "The benefits of employing ChatGPT and GPT-4 in chat format are numerous. For instance, GPT-4's short-term memory capacity of 64,000 words greatly surpasses GPT-3.5's 8,000-word limit, enabling it to maintain context more effectively in prolonged conversations. Furthermore, GPT-4 is highly multilingual, accurately handling up to 26 languages, and boasts improved steering capabilities, allowing users to tailor responses with a custom \"personality.\"\n",
    "\n",
    "The new model is considerably safer to use, boasting a 40% increase in factual responses and an 82% reduction in disallowed content responses. It can also interpret images as a foundation for interaction. While this functionality has not yet been incorporated into ChatGPT, its potential to revolutionize context-aware chat applications is immense."
   ]
  },
  {
   "cell_type": "markdown",
   "id": "d4a36d59-dc9c-4103-a2f1-1b6ea0d1f434",
   "metadata": {},
   "source": [
    "### Configurations:-\n",
    "---------------------"
   ]
  },
  {
   "cell_type": "code",
   "execution_count": 1,
   "id": "15e4cc79-78b2-48a8-9798-3553c007747a",
   "metadata": {},
   "outputs": [
    {
     "data": {
      "text/plain": [
       "True"
      ]
     },
     "execution_count": 1,
     "metadata": {},
     "output_type": "execute_result"
    }
   ],
   "source": [
    "import os\n",
    "from dotenv import load_dotenv\n",
    "\n",
    "load_dotenv()"
   ]
  },
  {
   "cell_type": "code",
   "execution_count": 2,
   "id": "66e94049-23b3-4427-9102-97ada7f17873",
   "metadata": {},
   "outputs": [],
   "source": [
    "azure_endpoint = os.getenv(\"AZURE_OPENAI_ENDPOINT\")\n",
    "azure_openai_api_key = os.getenv(\"AZURE_OPENAI_KEY\")\n",
    "azure_openai_api_version = \"2023-05-15\"\n",
    "llm_deployment_name = os.getenv(\"GPT_DEPLOYMENT_NAME\")\n",
    "\n",
    "os.environ[\"OPENAI_API_TYPE\"]     = \"azure\"\n",
    "os.environ[\"OPENAI_API_VERSION\"]  = azure_openai_api_version\n",
    "os.environ[\"OPENAI_API_KEY\"]      = azure_openai_api_key"
   ]
  },
  {
   "cell_type": "markdown",
   "id": "1a8db4c3-8eea-443e-8123-ad4a02459bca",
   "metadata": {},
   "source": [
    "The following example demonstrates how to create a chatbot using the GPT-4 model from OpenAI. After importing the necessary classes, we declare a set of messages. It starts by setting the context for the model (`SystemMessage`) that it is an assistant, followed by the user’s query (`HumanMessage`), and finishes by defining a sample response from the AI model (`AIMessage`)."
   ]
  },
  {
   "cell_type": "code",
   "execution_count": 3,
   "id": "5a02dcfd-b0ea-46cf-9a15-0e0b7f47078e",
   "metadata": {},
   "outputs": [],
   "source": [
    "from langchain_openai import AzureChatOpenAI\n",
    "from langchain.schema import (\n",
    "    SystemMessage,\n",
    "    HumanMessage,\n",
    "    AIMessage\n",
    ")\n",
    "\n",
    "llm = AzureChatOpenAI(\n",
    "    openai_api_version = azure_openai_api_version,\n",
    "    azure_deployment = llm_deployment_name\n",
    "    # temperature = 0.9\n",
    ")"
   ]
  },
  {
   "cell_type": "code",
   "execution_count": 7,
   "id": "f628be9a-be21-4262-adc9-0001ecc9f36d",
   "metadata": {},
   "outputs": [],
   "source": [
    "messages = [\n",
    "    SystemMessage(content=\"You are a helpful assistant.\"),\n",
    "    HumanMessage(content=\"What is the capital of West Bengal, India?\"),\n",
    "    AIMessage(content=\"The capital of the state West Bengal in India is Kolkata.\")\n",
    "]\n",
    "\n",
    "prompt = HumanMessage( content=\"I'd like to know more about the city you just mentioned.\" )\n",
    "\n",
    "messages.append( prompt )"
   ]
  },
  {
   "cell_type": "markdown",
   "id": "d7dc4ed5-5b59-4ee4-bd61-dcd3b82b4753",
   "metadata": {},
   "source": [
    "- When the user posed the question about the capital of West Bengal, India, the model confidently answered with \"Kolkata.”\n",
    "- Next up, we test if the model can leverage these discussions as a reference to delve further into details about the city without us explicitly mentioning the name (referring to Kolkata). The code below adds a new message which requires the model to understand and find the “city you just mentioned” reference from previous conversations."
   ]
  },
  {
   "cell_type": "code",
   "execution_count": 8,
   "id": "892a4ada-519e-4d65-b842-6b84e231d7aa",
   "metadata": {},
   "outputs": [
    {
     "name": "stdout",
     "output_type": "stream",
     "text": [
      "Certainly! Kolkata, formerly known as Calcutta, is the capital city of the Indian state of West Bengal. It is located on the eastern bank of the Hooghly River and is the principal commercial, cultural, and educational center of East India.\n",
      "\n",
      "Kolkata is known for its rich history, literature, art, and architecture. It was the capital of British India until 1911 and played a significant role in the country's independence movement. The city has a blend of colonial-era architecture, bustling markets, and vibrant cultural scenes.\n",
      "\n",
      "One of the major landmarks in Kolkata is the Victoria Memorial, a grand marble building built in memory of Queen Victoria. The Howrah Bridge, an iconic steel bridge over the Hooghly River, is another famous landmark. The city is also home to numerous educational institutions, including the prestigious University of Calcutta.\n",
      "\n",
      "Kolkata is famous for its artistic and cultural heritage. It is known as the cultural capital of India, hosting various festivals, art exhibitions, and cultural events throughout the year. The city is also renowned for its literature, with many famous writers and poets hailing from Kolkata.\n",
      "\n",
      "Additionally, Kolkata is known for its delicious cuisine, which includes a variety of street food, Bengali sweets, and traditional dishes. The city offers a range of culinary experiences, from local street food stalls to fine dining restaurants.\n",
      "\n",
      "Overall, Kolkata is a vibrant city with a unique blend of history, culture, and art. It is a must-visit destination for travelers seeking to explore the diversity and heritage of India.\n"
     ]
    }
   ],
   "source": [
    "response = llm.invoke( messages )\n",
    "print( response.content )"
   ]
  },
  {
   "cell_type": "markdown",
   "id": "bf9ba567-77fb-4c52-a534-07036b9bf663",
   "metadata": {},
   "source": [
    "As you can see, the model successfully extracted the information from previous conversations and explained more details about Kolkata. It shows that the chat models are capable of referring to the chat history and understanding the context.\n",
    "\n",
    "-----------------------------------------------------------------------------------"
   ]
  },
  {
   "cell_type": "markdown",
   "id": "2a89ccd8-b1a4-465a-b260-dfd7e5684131",
   "metadata": {},
   "source": [
    "### The LangChain’s Chat API offers several advantages:\n",
    "----------------------------------------------------------\n",
    "\n",
    "- **Context preservation**: By maintaining a list of messages in the conversation, the API ensures that the context is preserved throughout the interaction. This allows the GPT-3.5 and GPT-4 model to generate relevant and coherent responses based on the provided information.\n",
    "\n",
    "- **Memory**: The class’s message history **acts as a short-term memory for the chatbot**, allowing it to refer back to previous messages and provide more accurate and contextual responses.\n",
    "\n",
    "- **Modularity**: The combination of Message Templates and `AzureChatOpenAI` classes offers a modular approach to designing conversation applications. This makes it easier to develop, maintain, and extend the functionality of the chatbot.\n",
    "\n",
    "- **Improved performance**: GPT-3.5 and GPT-4, as an advanced language model, is more adept at understanding complex prompts and generating better responses than its predecessors. It can handle tasks that require deeper reasoning and context awareness, which leads to a more engaging and useful conversation experience.\n",
    "\n",
    "- **Flexibility**: The Chat API can be adapted to different domains and tasks, making it a versatile solution for various chatbot applications. In this example, the chatbot specializes in Indian culture but could be easily modified to focus on other subjects or industries. Moreover, as newer and more powerful language models become available, the API can be updated to utilize those models, allowing for continuous improvements in chatbot capabilities."
   ]
  },
  {
   "cell_type": "code",
   "execution_count": null,
   "id": "17f7a71c-8643-4a53-8606-fa38fcbdf7ea",
   "metadata": {},
   "outputs": [],
   "source": []
  }
 ],
 "metadata": {
  "kernelspec": {
   "display_name": "Python 3 (ipykernel)",
   "language": "python",
   "name": "python3"
  },
  "language_info": {
   "codemirror_mode": {
    "name": "ipython",
    "version": 3
   },
   "file_extension": ".py",
   "mimetype": "text/x-python",
   "name": "python",
   "nbconvert_exporter": "python",
   "pygments_lexer": "ipython3",
   "version": "3.10.6"
  }
 },
 "nbformat": 4,
 "nbformat_minor": 5
}
