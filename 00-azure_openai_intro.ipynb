{
 "cells": [
  {
   "cell_type": "code",
   "execution_count": 1,
   "id": "77e94b77-ee5f-42dd-950c-ad4eadf30441",
   "metadata": {},
   "outputs": [
    {
     "data": {
      "text/plain": [
       "True"
      ]
     },
     "execution_count": 1,
     "metadata": {},
     "output_type": "execute_result"
    }
   ],
   "source": [
    "from dotenv import load_dotenv\n",
    "load_dotenv()"
   ]
  },
  {
   "cell_type": "code",
   "execution_count": 2,
   "id": "91c5110d-31a6-44be-a318-768d8a8e6175",
   "metadata": {},
   "outputs": [],
   "source": [
    "from openai import AzureOpenAI\n",
    "import os"
   ]
  },
  {
   "cell_type": "code",
   "execution_count": 3,
   "id": "a80f05e3-ecc1-455e-8e32-31946d573f05",
   "metadata": {},
   "outputs": [],
   "source": [
    "client = AzureOpenAI(\n",
    "    azure_endpoint = os.getenv(\"AZURE_OPENAI_ENDPOINT\"),\n",
    "    api_key = os.getenv(\"AZURE_OPENAI_KEY\"),\n",
    "    api_version = \"2023-05-15\",\n",
    ")"
   ]
  },
  {
   "cell_type": "code",
   "execution_count": 4,
   "id": "eaee17ae-4f90-4cdd-a929-7386d3dc737e",
   "metadata": {},
   "outputs": [],
   "source": [
    "# For working with AzureOpenAI, in place of model, the deployment name is used\n",
    "deployment_name = os.getenv(\"DEPLOYMENT_NAME\")"
   ]
  },
  {
   "cell_type": "code",
   "execution_count": 5,
   "id": "34d52cc0-254b-42c1-a0a7-5b7ef8dba683",
   "metadata": {},
   "outputs": [],
   "source": [
    "chat_messages1 = [\n",
    "    {\"role\": \"system\", \"content\": \"You are a helpful assitant.\"},\n",
    "    {\"role\": \"user\", \"content\": \"What do you know about Jalpaiguri Government Engineering college in West Bengal, India?\"},\n",
    "]"
   ]
  },
  {
   "cell_type": "code",
   "execution_count": 6,
   "id": "8c0944a3-3d43-4501-b71e-80b74eca0bd4",
   "metadata": {},
   "outputs": [
    {
     "name": "stdout",
     "output_type": "stream",
     "text": [
      "ChatCompletion(id='chatcmpl-8mKKFs3MUwgq8bUx86LTq7Op9YnyF', choices=[Choice(finish_reason='stop', index=0, logprobs=None, message=ChatCompletionMessage(content='Jalpaiguri Government Engineering College (JGEC) is a prestigious engineering college located in Jalpaiguri, West Bengal, India. It was established in 1961 and is affiliated with the Maulana Abul Kalam Azad University of Technology. JGEC is approved by the All India Council for Technical Education (AICTE) and offers undergraduate and postgraduate programs in various fields of engineering and technology.\\n\\nSome key features of Jalpaiguri Government Engineering College include:\\n\\n1. Academic Programs: JGEC offers Bachelor of Technology (B.Tech) programs in disciplines such as Civil Engineering, Mechanical Engineering, Electrical Engineering, Electronics & Communication Engineering, Computer Science & Engineering, and Information Technology. The college also offers Master of Technology (M.Tech) programs in Civil Engineering, Mechanical Engineering, and Electrical Engineering.\\n\\n2. Campus and Facilities: The college campus is spread over 65 acres and features state-of-the-art infrastructure, well-equipped laboratories, library, sports facilities, hostels, and a computer center. The campus provides a conducive environment for learning and overall development.\\n\\n3. Faculty: JGEC has a highly qualified and experienced faculty who are dedicated to providing quality education to the students. The faculty members continuously engage in research and professional development activities.\\n\\n4. Placements: The college has a dedicated placement cell that facilitates internships and placements for its students. Many renowned companies visit the campus for recruitment, and a significant number of students secure job offers through campus placements.\\n\\n5. Research and Development: JGEC encourages research and innovation among its students and faculty members. The college actively participates in various research projects and collaborations, contributing to technological advancements and societal development.\\n\\nOverall, Jalpaiguri Government Engineering College has a strong reputation for its academic excellence, industry connections, and emphasis on holistic development. It is considered one of the top engineering colleges in West Bengal, attracting students from across the country.', role='assistant', function_call=None, tool_calls=None))], created=1706528567, model='gpt-35-turbo', object='chat.completion', system_fingerprint=None, usage=CompletionUsage(completion_tokens=388, prompt_tokens=36, total_tokens=424))\n"
     ]
    }
   ],
   "source": [
    "response = client.chat.completions.create(\n",
    "    model = deployment_name,\n",
    "    messages = chat_messages1\n",
    ")\n",
    "\n",
    "print( response )"
   ]
  },
  {
   "cell_type": "code",
   "execution_count": 9,
   "id": "c417c684-e464-46fe-815a-1329d70ad483",
   "metadata": {},
   "outputs": [
    {
     "name": "stdout",
     "output_type": "stream",
     "text": [
      "Jalpaiguri Government Engineering College (JGEC) is a prestigious engineering college located in Jalpaiguri, West Bengal, India. It was established in 1961 and is affiliated with the Maulana Abul Kalam Azad University of Technology. JGEC is approved by the All India Council for Technical Education (AICTE) and offers undergraduate and postgraduate programs in various fields of engineering and technology.\n",
      "\n",
      "Some key features of Jalpaiguri Government Engineering College include:\n",
      "\n",
      "1. Academic Programs: JGEC offers Bachelor of Technology (B.Tech) programs in disciplines such as Civil Engineering, Mechanical Engineering, Electrical Engineering, Electronics & Communication Engineering, Computer Science & Engineering, and Information Technology. The college also offers Master of Technology (M.Tech) programs in Civil Engineering, Mechanical Engineering, and Electrical Engineering.\n",
      "\n",
      "2. Campus and Facilities: The college campus is spread over 65 acres and features state-of-the-art infrastructure, well-equipped laboratories, library, sports facilities, hostels, and a computer center. The campus provides a conducive environment for learning and overall development.\n",
      "\n",
      "3. Faculty: JGEC has a highly qualified and experienced faculty who are dedicated to providing quality education to the students. The faculty members continuously engage in research and professional development activities.\n",
      "\n",
      "4. Placements: The college has a dedicated placement cell that facilitates internships and placements for its students. Many renowned companies visit the campus for recruitment, and a significant number of students secure job offers through campus placements.\n",
      "\n",
      "5. Research and Development: JGEC encourages research and innovation among its students and faculty members. The college actively participates in various research projects and collaborations, contributing to technological advancements and societal development.\n",
      "\n",
      "Overall, Jalpaiguri Government Engineering College has a strong reputation for its academic excellence, industry connections, and emphasis on holistic development. It is considered one of the top engineering colleges in West Bengal, attracting students from across the country.\n"
     ]
    }
   ],
   "source": [
    "print( response.choices[0].message.content )"
   ]
  },
  {
   "cell_type": "code",
   "execution_count": null,
   "id": "b0f61bf4-1d04-4c95-944b-efdf18fccb40",
   "metadata": {},
   "outputs": [],
   "source": []
  }
 ],
 "metadata": {
  "kernelspec": {
   "display_name": "Python 3 (ipykernel)",
   "language": "python",
   "name": "python3"
  },
  "language_info": {
   "codemirror_mode": {
    "name": "ipython",
    "version": 3
   },
   "file_extension": ".py",
   "mimetype": "text/x-python",
   "name": "python",
   "nbconvert_exporter": "python",
   "pygments_lexer": "ipython3",
   "version": "3.10.6"
  }
 },
 "nbformat": 4,
 "nbformat_minor": 5
}
