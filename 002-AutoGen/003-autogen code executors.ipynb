{
 "cells": [
  {
   "cell_type": "markdown",
   "id": "38400e66-660c-43ec-9808-caab94f795d5",
   "metadata": {},
   "source": [
    "<h1><center>Code Executors in AutoGen</center></h1>\n",
    "<hr><hr>\n",
    "Code executors enable agents to not just chat but also to interact with an environment and perform useful computations and take actions."
   ]
  },
  {
   "cell_type": "markdown",
   "id": "96f561d2-384d-48ed-80e8-218b28babd7c",
   "metadata": {},
   "source": [
    "- In AutoGen, a code executor is a component that takes input messages (e.g., those containing code blocks), performs execution, and outputs messages with the results.\n",
    "- AutoGen provides two types of built-in code executors:\n",
    "    - **Command line code executor**: It runs code in a command line environment such as a UNIX shell.\n",
    "    - **Jupyter executor**: It runs code in an interactive Jupyter kernel.\n",
    "\n",
    "__For each type of executor, AutoGen provides two ways to execute code__: locally and in a Docker container.\n",
    "- One way is to **execute code directly in the same host platform where AutoGen is running**, i.e., the local operating system. It is for development and testing, but it is not ideal for production as LLM can generate arbitrary code.\n",
    "- The other way is to **execute code in a Docker container**. The table below shows the combinations of code executors and execution environments.\n",
    "\n",
    "<table><thead><tr><th>Code Executor (<code>autogen.coding</code>)</th><th>Environment</th><th>Platform</th></tr></thead><tbody><tr><td><a href=\"/autogen/docs/reference/coding/local_commandline_code_executor#localcommandlinecodeexecutor\"><code>LocalCommandLineCodeExecutor</code></a></td><td>Shell</td><td>Local</td></tr><tr><td><a href=\"/autogen/docs/reference/coding/docker_commandline_code_executor#dockercommandlinecodeexecutor\"><code>DockerCommandLineCodeExecutor</code></a></td><td>Shell</td><td>Docker</td></tr><tr><td><a href=\"/autogen/docs/reference/coding/jupyter/jupyter_code_executor#jupytercodeexecutor\"><code>jupyter.JupyterCodeExecutor</code></a></td><td>Jupyter Kernel (e.g., python3)</td><td>Local/Docker</td></tr></tbody></table>\n",
    "\n",
    "- <a href=\"https://microsoft.github.io/autogen/docs/tutorial/code-executors/\" target=\"_blank\">Command Line Code Executor Doc</a>\n",
    "- <a href=\"https://microsoft.github.io/autogen/docs/topics/code-execution/jupyter-code-executor/\" target=\"_blank\">Jupyter Code Executor Doc</a>"
   ]
  },
  {
   "cell_type": "markdown",
   "id": "d73ce569-4b4d-49cb-b38a-7658c67821f0",
   "metadata": {},
   "source": [
    "### Configuration:\n",
    "---------------------"
   ]
  },
  {
   "cell_type": "code",
   "execution_count": 1,
   "id": "feda8247-0873-431c-892f-ca0bb6a359a8",
   "metadata": {},
   "outputs": [
    {
     "data": {
      "text/plain": [
       "True"
      ]
     },
     "execution_count": 1,
     "metadata": {},
     "output_type": "execute_result"
    }
   ],
   "source": [
    "import os\n",
    "from dotenv import load_dotenv\n",
    "\n",
    "load_dotenv()"
   ]
  },
  {
   "cell_type": "code",
   "execution_count": 2,
   "id": "2450a557-fa4d-41d4-95c7-32f2da193f32",
   "metadata": {},
   "outputs": [],
   "source": [
    "azure_endpoint = os.getenv(\"AZURE_OPENAI_ENDPOINT\")\n",
    "azure_openai_api_key = os.getenv(\"AZURE_OPENAI_KEY\")\n",
    "azure_openai_api_version = \"2023-05-15\"\n",
    "llm_deployment_name = os.getenv(\"GPT_DEPLOYMENT_NAME\")\n",
    "\n",
    "os.environ[\"OPENAI_API_TYPE\"]     = \"azure\"\n",
    "os.environ[\"OPENAI_API_VERSION\"]  = azure_openai_api_version\n",
    "os.environ[\"OPENAI_API_KEY\"]      = azure_openai_api_key"
   ]
  },
  {
   "cell_type": "markdown",
   "id": "dfe1a692-12bd-4f85-a87d-07fd4793a216",
   "metadata": {},
   "source": [
    "## Local Execution:\n",
    "----------------------\n",
    "The figure below shows the architecture of the local command line code executor (`autogen.coding.LocalCommandLineCodeExecutor`).\n",
    "\n",
    "<center><img src=\"./images/004-command-line-code-executor.png\" /></center>\n",
    "\n",
    "Upon receiving a message with a code block:\n",
    "1. The local command line code executor first writes the code block to a code file.\n",
    "2. It then starts a new subprocess to execute the code file.\n",
    "3. The executor reads the console output of the code execution and sends it back as a reply message.\n",
    "\n",
    "Here is an example of using the code executor to run a Python code block that prints a random number. <br>\n",
    "First we create an agent with the code executor that uses a temporary directory to store the code files. <br>\n",
    "We specify `human_input_mode=\"ALWAYS\"` to manually validate the safety of the the code being executed."
   ]
  },
  {
   "cell_type": "code",
   "execution_count": 4,
   "id": "c4ba3819-5057-496a-aeb6-f43327902994",
   "metadata": {},
   "outputs": [],
   "source": [
    "import tempfile\n",
    "from autogen import ConversableAgent\n",
    "from autogen.coding import LocalCommandLineCodeExecutor"
   ]
  },
  {
   "cell_type": "code",
   "execution_count": 9,
   "id": "f12649ac-2686-47e9-8e2c-ecf9458f9ae2",
   "metadata": {},
   "outputs": [],
   "source": [
    "# Create a temporary directory to store the code files.\n",
    "temp_dir = tempfile.TemporaryDirectory()"
   ]
  },
  {
   "cell_type": "code",
   "execution_count": 10,
   "id": "7af3a235-8639-44c1-94a4-8be9931ab24b",
   "metadata": {},
   "outputs": [
    {
     "name": "stdout",
     "output_type": "stream",
     "text": [
      "C:\\Users\\DEBANJ~1\\AppData\\Local\\Temp\\tmpw4dwywbz\n"
     ]
    }
   ],
   "source": [
    "print( temp_dir.name )"
   ]
  },
  {
   "cell_type": "code",
   "execution_count": 11,
   "id": "4484caf9-b68a-459e-abb1-ecaeff25354d",
   "metadata": {},
   "outputs": [],
   "source": [
    "# Create a local command line code executor.\n",
    "executor = LocalCommandLineCodeExecutor(\n",
    "    timeout=10,  # Timeout for each code execution in seconds.\n",
    "    work_dir=temp_dir.name,  # Use the temporary directory to store the code files.\n",
    ")\n",
    "\n",
    "# Create an agent with code executor configuration.\n",
    "code_executor_agent = ConversableAgent(\n",
    "    \"code_executor_agent\",\n",
    "    llm_config=False,  # Turn off LLM for this agent.\n",
    "    code_execution_config={\"executor\": executor},  # Use the local command line code executor.\n",
    "    human_input_mode=\"ALWAYS\",  # Always take human input for this agent for safety.\n",
    ")"
   ]
  },
  {
   "cell_type": "markdown",
   "id": "2699cbec-222c-4e24-9c91-882a68eec1e8",
   "metadata": {},
   "source": [
    "- Now we have the agent generate a reply given a message with a Python code block."
   ]
  },
  {
   "cell_type": "code",
   "execution_count": 17,
   "id": "1c68be0b-52d6-4be3-ac7f-9e9ac4eb1571",
   "metadata": {},
   "outputs": [
    {
     "name": "stdin",
     "output_type": "stream",
     "text": [
      "Provide feedback to the sender. Press enter to skip and use auto-reply, or type 'exit' to end the conversation:  \n"
     ]
    },
    {
     "name": "stdout",
     "output_type": "stream",
     "text": [
      "\u001b[31m\n",
      ">>>>>>>> NO HUMAN INPUT RECEIVED.\u001b[0m\n",
      "\u001b[31m\n",
      ">>>>>>>> USING AUTO REPLY...\u001b[0m\n",
      "\u001b[31m\n",
      ">>>>>>>> EXECUTING CODE BLOCK (inferred language is python)...\u001b[0m\n",
      "exitcode: 0 (execution succeeded)\n",
      "Code output: Scatter plot saved to scatter.png\n",
      "\n"
     ]
    }
   ],
   "source": [
    "message_with_code_block = \"\"\"This is a message with code block.\n",
    "The code block is below:\n",
    "```python\n",
    "import numpy as np\n",
    "import matplotlib.pyplot as plt\n",
    "x = np.random.randint(0, 100, 100)\n",
    "y = np.random.randint(0, 100, 100)\n",
    "plt.scatter(x, y)\n",
    "plt.savefig('scatter.png')\n",
    "print('Scatter plot saved to scatter.png')\n",
    "```\n",
    "This is the end of the message.\n",
    "\"\"\"\n",
    "\n",
    "# Generate a reply for the given code.\n",
    "reply = code_executor_agent.generate_reply(messages=[{\"role\": \"user\", \"content\": message_with_code_block}])\n",
    "print(reply)"
   ]
  },
  {
   "cell_type": "markdown",
   "id": "9ab66830-fc56-4be6-891b-c7b7578fb08c",
   "metadata": {},
   "source": [
    "During the generation of response, a human input is requested to give an opportunity to intercept the code execution. In this case, we choose to continue the execution, and the **agent’s reply contains the output of the code execution**.\n",
    "\n",
    "We can take a look at the generated plot in the temporary directory."
   ]
  },
  {
   "cell_type": "code",
   "execution_count": 19,
   "id": "e2ebffb0-ad73-40ed-a20d-407fd5bfdf9e",
   "metadata": {},
   "outputs": [
    {
     "name": "stdout",
     "output_type": "stream",
     "text": [
      "['scatter.png', 'tmp_code_e24bf32d4a21990fb9e4b5eb889ebe5a.py']\n"
     ]
    }
   ],
   "source": [
    "print(os.listdir(temp_dir.name))\n",
    "# We can see the output scatter.png and the code file generated by the agent."
   ]
  },
  {
   "cell_type": "code",
   "execution_count": 20,
   "id": "1504f1f0-468c-415b-ad8f-71603926fa5f",
   "metadata": {},
   "outputs": [],
   "source": [
    "# Clean up the working directory to avoid affecting future conversations.\n",
    "temp_dir.cleanup()"
   ]
  },
  {
   "cell_type": "markdown",
   "id": "0e1272fb-c3cd-4d95-97f6-884418f38395",
   "metadata": {},
   "source": [
    "## Docker Execution:\n",
    "---------------------\n",
    "- To mitigate the security risk of running LLM-generated code locally, we can use the docker command line code executor (`autogen.coding.DockerCommandLineCodeExecutor`) to execute code in a docker container.\n",
    "- This way, the generated code can only access resources that are explicitly given to it.\n",
    "\n",
    "The figure below illustrates how does the docker execution works.\n",
    "<center><img src=\"./images/005-code-executor-docker.png\" /></center>\n",
    "\n",
    "- Similar to the local command line code executor, the docker executor extracts code blocks from input messages, writes them to code files.\n",
    "- For each code file, it starts a docker container to execute the code file, and reads the console output of the code execution.\n",
    "\n",
    "To use docker execution, you need to install Docker on your machine. Once you have Docker installed and running, you can set up your code executor agent as follow:"
   ]
  },
  {
   "cell_type": "code",
   "execution_count": 21,
   "id": "b5a3953d-97f6-46aa-a0f2-0fd79df1aa73",
   "metadata": {},
   "outputs": [],
   "source": [
    "from autogen.coding import DockerCommandLineCodeExecutor\n",
    "\n",
    "# Create a temporary directory to store the code files.\n",
    "temp_dir = tempfile.TemporaryDirectory()\n",
    "\n",
    "# Create a Docker command line code executor.\n",
    "docker_executor = DockerCommandLineCodeExecutor(\n",
    "    image=\"python:3.12-slim\",  # Execute code using the given docker image name.\n",
    "    timeout=10,  # Timeout for each code execution in seconds.\n",
    "    work_dir=temp_dir.name,  # Use the temporary directory to store the code files.\n",
    ")\n",
    "\n",
    "# Create an agent with code executor configuration that uses docker.\n",
    "code_executor_agent_using_docker = ConversableAgent(\n",
    "    \"code_executor_agent_docker\",\n",
    "    llm_config=False,  # Turn off LLM for this agent.\n",
    "    code_execution_config={\"executor\": docker_executor},  # Use the docker command line code executor.\n",
    "    human_input_mode=\"ALWAYS\",  # Always take human input for this agent for safety.\n",
    ")"
   ]
  },
  {
   "cell_type": "markdown",
   "id": "c434e527-e34b-483d-8fc9-39f6139dc4f7",
   "metadata": {},
   "source": [
    "- Install required packages in the container (ex- Numpy, Matplotlib) and then run the code block below:"
   ]
  },
  {
   "cell_type": "code",
   "execution_count": 23,
   "id": "ceb70d1e-a3fb-48c4-afe3-783598054e5d",
   "metadata": {},
   "outputs": [
    {
     "name": "stdin",
     "output_type": "stream",
     "text": [
      "Provide feedback to the sender. Press enter to skip and use auto-reply, or type 'exit' to end the conversation:  \n"
     ]
    },
    {
     "name": "stdout",
     "output_type": "stream",
     "text": [
      "\u001b[31m\n",
      ">>>>>>>> NO HUMAN INPUT RECEIVED.\u001b[0m\n",
      "\u001b[31m\n",
      ">>>>>>>> USING AUTO REPLY...\u001b[0m\n",
      "\u001b[31m\n",
      ">>>>>>>> EXECUTING CODE BLOCK (inferred language is python)...\u001b[0m\n",
      "exitcode: 0 (execution succeeded)\n",
      "Code output: Scatter plot saved to scatter.png\n",
      "\n"
     ]
    }
   ],
   "source": [
    "message_with_code_block = \"\"\"This is a message with code block.\n",
    "The code block is below:\n",
    "```python\n",
    "import numpy as np\n",
    "import matplotlib.pyplot as plt\n",
    "x = np.random.randint(0, 100, 100)\n",
    "y = np.random.randint(0, 100, 100)\n",
    "plt.scatter(x, y)\n",
    "plt.savefig('scatter.png')\n",
    "print('Scatter plot saved to scatter.png')\n",
    "```\n",
    "This is the end of the message.\n",
    "\"\"\"\n",
    "\n",
    "# Generate a reply for the given code.\n",
    "reply = code_executor_agent_using_docker.generate_reply(messages=[{\"role\": \"user\", \"content\": message_with_code_block}])\n",
    "print(reply)"
   ]
  },
  {
   "cell_type": "code",
   "execution_count": 24,
   "id": "93004740-053a-4237-be56-7cc4e62dcdda",
   "metadata": {},
   "outputs": [],
   "source": [
    "# When the code executor is no longer used, stop it to release the resources.\n",
    "docker_executor.stop()"
   ]
  },
  {
   "cell_type": "markdown",
   "id": "371bcb12-20c9-49e0-86cb-797eb4a782d9",
   "metadata": {},
   "source": [
    "### NOTE:\n",
    "------------\n",
    "- The `work_dir` in the constructor points to a local file system directory just like in the local execution case. The docker container will mount this directory and the executor write code files and output to it."
   ]
  },
  {
   "cell_type": "markdown",
   "id": "6e2c7604-3733-4c6d-afac-88e07e325e43",
   "metadata": {},
   "source": [
    "<center><h1>Using Code Execution in Conversation</h1></center>\n",
    "<hr><hr>\n",
    "Writing and executing code is necessary for many tasks such as data analysis, machine learning, and mathematical modeling. In AutoGen, coding can be a conversation between a code writer agent and a code executor agent, mirroring the interaction between a programmer and a code interpreter.\n",
    "<center><img src=\"./images/006-code-execution-in-conversation.png\"/></center>\n",
    "\n",
    "The code writer agent can be powered by an LLM such as GPT-3.5 or GPT-4 with code-writing capability. And the code executor agent is powered by a code executor."
   ]
  },
  {
   "cell_type": "markdown",
   "id": "fe8178eb-12ec-488b-8dad-de8f3563c308",
   "metadata": {},
   "source": [
    "The following is an agent with a code writer role specified using system_message. The system message contains important instruction on how to use the code executor in the code executor agent."
   ]
  },
  {
   "cell_type": "code",
   "execution_count": 29,
   "id": "a22fe741-a8fa-4e9a-baa5-e4fde38ce2a5",
   "metadata": {},
   "outputs": [],
   "source": [
    "from pathlib import Path\n",
    "from autogen import ConversableAgent\n",
    "from autogen.coding import LocalCommandLineCodeExecutor"
   ]
  },
  {
   "cell_type": "code",
   "execution_count": 25,
   "id": "51023095-e406-4721-abcf-009073c84125",
   "metadata": {},
   "outputs": [],
   "source": [
    "llm_config_list = [\n",
    "    {\n",
    "        'model' : llm_deployment_name,\n",
    "        # \"temperature\": 0.7,\n",
    "        'api_key': azure_openai_api_key,\n",
    "        'base_url' : azure_endpoint,\n",
    "        'api_type' : 'azure',\n",
    "        'api_version' : azure_openai_api_version\n",
    "    }\n",
    "]\n",
    "\n",
    "# The code writer agent's system message is to instruct the LLM on how to use\n",
    "# the code executor in the code executor agent.\n",
    "code_writer_system_message = \"\"\"You are a helpful AI assistant.\n",
    "Solve tasks using your coding and language skills.\n",
    "In the following cases, suggest python code (in a python coding block) or shell script (in a sh coding block) for the user to execute.\n",
    "1. When you need to collect info, use the code to output the info you need, for example, browse or search the web, download/read a file, print the content of a webpage or a file, get the current date/time, check the operating system. After sufficient info is printed and the task is ready to be solved based on your language skill, you can solve the task by yourself.\n",
    "2. When you need to perform some task with code, use the code to perform the task and output the result. Finish the task smartly.\n",
    "Solve the task step by step if you need to. If a plan is not provided, explain your plan first. Be clear which step uses code, and which step uses your language skill.\n",
    "When using code, you must indicate the script type in the code block. The user cannot provide any other feedback or perform any other action beyond executing the code you suggest. The user can't modify your code. So do not suggest incomplete code which requires users to modify. Don't use a code block if it's not intended to be executed by the user.\n",
    "If you want the user to save the code in a file before executing it, put # filename: <filename> inside the code block as the first line. Don't include multiple code blocks in one response. Do not ask users to copy and paste the result. Instead, use 'print' function for the output when relevant. Check the execution result returned by the user.\n",
    "If the result indicates there is an error, fix the error and output the code again. Suggest the full code instead of partial code or code changes. If the error can't be fixed or if the task is not solved even after the code is executed successfully, analyze the problem, revisit your assumption, collect additional info you need, and think of a different approach to try.\n",
    "When you find an answer, verify the answer carefully. Include verifiable evidence in your response if possible.\n",
    "Reply 'TERMINATE' in the end when everything is done.\n",
    "\"\"\"\n",
    "\n",
    "code_writer_agent = ConversableAgent(\n",
    "    \"code_writer_agent\",\n",
    "    system_message=code_writer_system_message,\n",
    "    llm_config={\"config_list\": llm_config_list},\n",
    "    code_execution_config=False,  # Turn off code execution for this agent.\n",
    ")"
   ]
  },
  {
   "cell_type": "code",
   "execution_count": 28,
   "id": "7f5a561a-a43b-4586-bc21-bd3575d1ff82",
   "metadata": {},
   "outputs": [
    {
     "name": "stdout",
     "output_type": "stream",
     "text": [
      "autogen_coding\n"
     ]
    }
   ],
   "source": [
    "work_dir = Path(\"autogen_coding\")\n",
    "work_dir.mkdir(exist_ok=True)\n",
    "\n",
    "print( work_dir )"
   ]
  },
  {
   "cell_type": "code",
   "execution_count": 37,
   "id": "93b50fd0-549a-44ea-a621-2a7b283ca9e1",
   "metadata": {},
   "outputs": [],
   "source": [
    "# Create a temporary directory to store the code files.\n",
    "temp_dir = tempfile.TemporaryDirectory()\n",
    "\n",
    "# Create a local command line code executor.\n",
    "executor = LocalCommandLineCodeExecutor(\n",
    "    timeout=10,  # Timeout for each code execution in seconds.\n",
    "    # work_dir=work_dir,  \n",
    "    work_dir=temp_dir.name# Use the temporary directory to store the code files.\n",
    ")\n",
    "\n",
    "# Create an agent with code executor configuration.\n",
    "code_executor_agent = ConversableAgent(\n",
    "    \"code_executor_agent\",\n",
    "    llm_config=False,  # Turn off LLM for this agent.\n",
    "    code_execution_config={\"executor\": executor},  # Use the local command line code executor.\n",
    "    human_input_mode=\"ALWAYS\",  # Always take human input for this agent for safety.\n",
    ")"
   ]
  },
  {
   "cell_type": "markdown",
   "id": "27edeec6-c729-4246-845f-4f39093224c0",
   "metadata": {},
   "source": [
    "- Here is an example of solving a math problem through a conversation between the code writer agent and the code executor agent (created above)."
   ]
  },
  {
   "cell_type": "code",
   "execution_count": 31,
   "id": "6e8fead6-bf98-4afe-90f7-aef96f7852f3",
   "metadata": {
    "scrolled": true
   },
   "outputs": [
    {
     "name": "stdout",
     "output_type": "stream",
     "text": [
      "\u001b[33mcode_executor_agent\u001b[0m (to code_writer_agent):\n",
      "\n",
      "Write Python code to calculate the 14th Fibonacci number.\n",
      "\n",
      "--------------------------------------------------------------------------------\n",
      "\u001b[31m\n",
      ">>>>>>>> USING AUTO REPLY...\u001b[0m\n",
      "\u001b[33mcode_writer_agent\u001b[0m (to code_executor_agent):\n",
      "\n",
      "To calculate the 14th Fibonacci number, you can use a simple loop or recursion. Here's an example of how you can do it using a loop:\n",
      "\n",
      "```python\n",
      "# calculate the 14th Fibonacci number\n",
      "n = 14\n",
      "\n",
      "# initialize the first two numbers in the sequence\n",
      "fibonacci = [0, 1]\n",
      "\n",
      "# calculate the Fibonacci sequence up to the n-th number\n",
      "for i in range(2, n+1):\n",
      "    fibonacci.append(fibonacci[i-1] + fibonacci[i-2])\n",
      "\n",
      "# get the 14th Fibonacci number\n",
      "fibonacci_14th = fibonacci[n]\n",
      "\n",
      "print(f\"The 14th Fibonacci number is: {fibonacci_14th}\")\n",
      "```\n",
      "\n",
      "Executing this code will output: \"The 14th Fibonacci number is: 377\".\n",
      "\n",
      "Please note that the Fibonacci sequence starts with 0 and 1, so the 14th Fibonacci number is the 13th element in the sequence.\n",
      "\n",
      "--------------------------------------------------------------------------------\n"
     ]
    },
    {
     "name": "stdin",
     "output_type": "stream",
     "text": [
      "Provide feedback to code_writer_agent. Press enter to skip and use auto-reply, or type 'exit' to end the conversation:  \n"
     ]
    },
    {
     "name": "stdout",
     "output_type": "stream",
     "text": [
      "\u001b[31m\n",
      ">>>>>>>> NO HUMAN INPUT RECEIVED.\u001b[0m\n",
      "\u001b[31m\n",
      ">>>>>>>> USING AUTO REPLY...\u001b[0m\n",
      "\u001b[31m\n",
      ">>>>>>>> EXECUTING CODE BLOCK (inferred language is python)...\u001b[0m\n",
      "\u001b[33mcode_executor_agent\u001b[0m (to code_writer_agent):\n",
      "\n",
      "exitcode: 0 (execution succeeded)\n",
      "Code output: The 14th Fibonacci number is: 377\n",
      "\n",
      "\n",
      "--------------------------------------------------------------------------------\n",
      "\u001b[31m\n",
      ">>>>>>>> USING AUTO REPLY...\u001b[0m\n",
      "\u001b[33mcode_writer_agent\u001b[0m (to code_executor_agent):\n",
      "\n",
      "Great! The code successfully calculated the 14th Fibonacci number, which is 377. If you have any more questions or need further assistance, feel free to ask.\n",
      "\n",
      "--------------------------------------------------------------------------------\n"
     ]
    },
    {
     "name": "stdin",
     "output_type": "stream",
     "text": [
      "Provide feedback to code_writer_agent. Press enter to skip and use auto-reply, or type 'exit' to end the conversation:  \n"
     ]
    },
    {
     "name": "stdout",
     "output_type": "stream",
     "text": [
      "\u001b[31m\n",
      ">>>>>>>> NO HUMAN INPUT RECEIVED.\u001b[0m\n",
      "\u001b[31m\n",
      ">>>>>>>> USING AUTO REPLY...\u001b[0m\n",
      "\u001b[33mcode_executor_agent\u001b[0m (to code_writer_agent):\n",
      "\n",
      "\n",
      "\n",
      "--------------------------------------------------------------------------------\n",
      "\u001b[31m\n",
      ">>>>>>>> USING AUTO REPLY...\u001b[0m\n",
      "\u001b[33mcode_writer_agent\u001b[0m (to code_executor_agent):\n",
      "\n",
      "I'm glad I could assist you! If you have any more questions or need help with anything else, feel free to ask. I'm here to help!\n",
      "\n",
      "--------------------------------------------------------------------------------\n"
     ]
    },
    {
     "name": "stdin",
     "output_type": "stream",
     "text": [
      "Provide feedback to code_writer_agent. Press enter to skip and use auto-reply, or type 'exit' to end the conversation:  exit\n"
     ]
    }
   ],
   "source": [
    "chat_result = code_executor_agent.initiate_chat(\n",
    "    code_writer_agent,\n",
    "    message=\"Write Python code to calculate the 14th Fibonacci number.\",\n",
    ")"
   ]
  },
  {
   "cell_type": "markdown",
   "id": "87c8a3b2-be13-495b-9d86-a3c94fd933ef",
   "metadata": {},
   "source": [
    "<hr>\n",
    "- During the above chat session, human input was requested each time the code executor agent responded to ensure that the code was safe to execute.\n",
    "<hr>"
   ]
  },
  {
   "cell_type": "markdown",
   "id": "1b981cbb-0aaf-4a83-b285-523cbee754d8",
   "metadata": {},
   "source": [
    "Now we can try a more complex example that involves querying the web. <br>\n",
    "Let’s say we want to get the the stock price gains year-to-date for Tesla and Meta (formerly Facebook). We can also use the two agents with several iterations of conversation."
   ]
  },
  {
   "cell_type": "code",
   "execution_count": 38,
   "id": "b0b96505-1596-4de7-82f3-644c83c17af9",
   "metadata": {},
   "outputs": [
    {
     "name": "stdout",
     "output_type": "stream",
     "text": [
      "\u001b[33mcode_executor_agent\u001b[0m (to code_writer_agent):\n",
      "\n",
      "Today is 2024-03-22. Write Python code to plot TSLA's and META's stock price gains YTD, and save the plot to a file named 'stock_gains.png'.\n",
      "\n",
      "--------------------------------------------------------------------------------\n",
      "\u001b[31m\n",
      ">>>>>>>> USING AUTO REPLY...\u001b[0m\n",
      "\u001b[33mcode_writer_agent\u001b[0m (to code_executor_agent):\n",
      "\n",
      "To plot the stock price gains YTD for TSLA and META, we need to first collect the historical stock prices for the two companies. We can use the yfinance library in Python to collect the stock price data. Then, we can calculate the cumulative gain for each stock since the beginning of the year and plot the results using the matplotlib library. Here's the Python code to accomplish this task:\n",
      "\n",
      "```python\n",
      "# filename: stock_gains.py\n",
      "import matplotlib.pyplot as plt\n",
      "import yfinance as yf\n",
      "\n",
      "# Define the ticker symbols for TSLA and META\n",
      "tickers = ['TSLA', 'META']\n",
      "\n",
      "# Download the historical stock price data\n",
      "data = yf.download(tickers, start='2024-01-01', end='2024-03-21')\n",
      "\n",
      "# Calculate the cumulative gains YTD for each stock\n",
      "gains = data['Close'].pct_change().cumsum()\n",
      "\n",
      "# Plot the gains\n",
      "plt.plot(gains.index, gains['TSLA'], label='TSLA')\n",
      "plt.plot(gains.index, gains['META'], label='META')\n",
      "plt.xlabel('Date')\n",
      "plt.ylabel('Cumulative Gain YTD')\n",
      "plt.legend()\n",
      "\n",
      "# Save the plot to a file\n",
      "plt.savefig('stock_gains.png')\n",
      "plt.close()\n",
      "```\n",
      "\n",
      "Please make sure you have the matplotlib and yfinance libraries installed before running this code. You can install them using the following commands:\n",
      "\n",
      "```sh\n",
      "pip install matplotlib yfinance\n",
      "```\n",
      "\n",
      "Run the code using the following command:\n",
      "\n",
      "```sh\n",
      "python stock_gains.py\n",
      "```\n",
      "\n",
      "The plot will be saved as 'stock_gains.png' in the same directory.\n",
      "\n",
      "--------------------------------------------------------------------------------\n"
     ]
    },
    {
     "name": "stdin",
     "output_type": "stream",
     "text": [
      "Provide feedback to code_writer_agent. Press enter to skip and use auto-reply, or type 'exit' to end the conversation:  \n"
     ]
    },
    {
     "name": "stdout",
     "output_type": "stream",
     "text": [
      "\u001b[31m\n",
      ">>>>>>>> NO HUMAN INPUT RECEIVED.\u001b[0m\n",
      "\u001b[31m\n",
      ">>>>>>>> USING AUTO REPLY...\u001b[0m\n",
      "\u001b[31m\n",
      ">>>>>>>> EXECUTING 3 CODE BLOCKS (inferred languages are [python, sh, sh])...\u001b[0m\n",
      "\u001b[33mcode_executor_agent\u001b[0m (to code_writer_agent):\n",
      "\n",
      "exitcode: 1 (execution failed)\n",
      "Code output: \n",
      "[                       0%%                      ]\n",
      "[*********************100%%**********************]  2 of 2 completed\n",
      "C:\\Users\\Debanjan : The term 'C:\\Users\\Debanjan' is not recognized as the name of a cmdlet, function, script file, or \n",
      "operable program. Check the spelling of the name, or if a path was included, verify that the path is correct and try \n",
      "again.\n",
      "At line:1 char:1\n",
      "+ C:\\Users\\Debanjan Sarkar\\AppData\\Local\\Temp\\tmpkem5f6x8\\tmp_code_3720 ...\n",
      "+ ~~~~~~~~~~~~~~~~~\n",
      "    + CategoryInfo          : ObjectNotFound: (C:\\Users\\Debanjan:String) [], CommandNotFoundException\n",
      "    + FullyQualifiedErrorId : CommandNotFoundException\n",
      " \n",
      "\n",
      "\n",
      "--------------------------------------------------------------------------------\n",
      "\u001b[31m\n",
      ">>>>>>>> USING AUTO REPLY...\u001b[0m\n",
      "\u001b[33mcode_writer_agent\u001b[0m (to code_executor_agent):\n",
      "\n",
      "It seems that there was an error in running the code. The error message suggests that there was an issue with the path to the Python executable.\n",
      "\n",
      "To resolve this issue, please try the following steps:\n",
      "1. Ensure that you have Python installed on your system and that it is added to your system's PATH environment variable.\n",
      "2. Open the command prompt or terminal.\n",
      "3. Navigate to the directory where you have saved the `stock_gains.py` file.\n",
      "4. Run the Python script using the following command:\n",
      "\n",
      "```sh\n",
      "python stock_gains.py\n",
      "```\n",
      "\n",
      "Make sure to replace `stock_gains.py` with the correct filename if it's different.\n",
      "\n",
      "If you're still encountering issues, please let me know the specific error message you're receiving and any additional details that might be helpful in troubleshooting the problem.\n",
      "\n",
      "--------------------------------------------------------------------------------\n"
     ]
    },
    {
     "name": "stdin",
     "output_type": "stream",
     "text": [
      "Provide feedback to code_writer_agent. Press enter to skip and use auto-reply, or type 'exit' to end the conversation:  exit\n"
     ]
    }
   ],
   "source": [
    "import datetime\n",
    "\n",
    "today = datetime.datetime.now().strftime(\"%Y-%m-%d\")\n",
    "chat_result = code_executor_agent.initiate_chat(\n",
    "    code_writer_agent,\n",
    "    message=f\"Today is {today}. Write Python code to plot TSLA's and META's stock price gains YTD, and save the plot to a file named 'stock_gains.png'.\",\n",
    ")"
   ]
  },
  {
   "cell_type": "markdown",
   "id": "bd25d3ab-ae04-4eb7-b0d1-a966f72daa74",
   "metadata": {},
   "source": [
    "- Let’s take a look at the chart that was generated."
   ]
  },
  {
   "cell_type": "code",
   "execution_count": 40,
   "id": "bf070a35-312f-41f9-b2bc-ff3a3608fffe",
   "metadata": {},
   "outputs": [
    {
     "data": {
      "image/png": "[encoded data removed]",
      "text/plain": [
       "<IPython.core.display.Image object>"
      ]
     },
     "execution_count": 40,
     "metadata": {},
     "output_type": "execute_result"
    }
   ],
   "source": [
    "from IPython.display import Image\n",
    "\n",
    "Image(os.path.join(temp_dir.name, \"stock_gains.png\"))"
   ]
  },
  {
   "cell_type": "markdown",
   "id": "cc3b13e0-4a00-4542-9565-06ff7c8874ff",
   "metadata": {},
   "source": [
    "- Because code execution leave traces like code files and output in the file system, we may want to clean up the working directory after each conversation concludes."
   ]
  },
  {
   "cell_type": "code",
   "execution_count": 41,
   "id": "6feddc41-c935-446c-b432-8a2825460ccc",
   "metadata": {},
   "outputs": [],
   "source": [
    "temp_dir.cleanup()"
   ]
  },
  {
   "cell_type": "code",
   "execution_count": 43,
   "id": "c34bca71-eb54-40e7-a9da-621bfc7b03d8",
   "metadata": {},
   "outputs": [
    {
     "ename": "AttributeError",
     "evalue": "'LocalCommandLineCodeExecutor' object has no attribute 'stop'",
     "output_type": "error",
     "traceback": [
      "\u001b[1;31m---------------------------------------------------------------------------\u001b[0m",
      "\u001b[1;31mAttributeError\u001b[0m                            Traceback (most recent call last)",
      "Cell \u001b[1;32mIn[43], line 1\u001b[0m\n\u001b[1;32m----> 1\u001b[0m \u001b[43mexecutor\u001b[49m\u001b[38;5;241;43m.\u001b[39;49m\u001b[43mstop\u001b[49m()  \u001b[38;5;66;03m# Stop the docker command line code executor, if the executor is a Docker Executor.\u001b[39;00m\n",
      "\u001b[1;31mAttributeError\u001b[0m: 'LocalCommandLineCodeExecutor' object has no attribute 'stop'"
     ]
    }
   ],
   "source": [
    "executor.stop()  # Stop the docker command line code executor, if the executor is a Docker Executor."
   ]
  },
  {
   "cell_type": "markdown",
   "id": "fea4b8b1-dfa7-4d68-b99e-6c151456fb36",
   "metadata": {},
   "source": [
    "## Command Line v/s Jupyter Code Executor:\n",
    "--------------------------------------------\n",
    "- The command line code executor does not keep any state in memory between executions of different code blocks it receives, as it writes each code block to a separate file and executes the code block in a new process.\n",
    "\n",
    "- Contrast to the command line code executor, the Jupyter code executor runs all code blocks in the same Jupyter kernel, which keeps the state in memory between executions. See the topic page for Jupyter Code Executor.\n",
    "\n",
    "- The choice between command line and Jupyter code executor depends on the nature of the code blocks in agents’ conversation.\n",
    "    - If each code block is a “script” that does not use variables from previous code blocks, the command line code executor is a good choice.\n",
    "    - If the some code blocks contain expensive computation (e.g., training a machine learning model and loading large amount of data), and you want to keep the state in memory to avoid repeated computation, the Jupyter code executor is a better choice."
   ]
  },
  {
   "cell_type": "markdown",
   "id": "2895b48b-f7d9-44e9-82a7-aa522386cdb6",
   "metadata": {},
   "source": [
    "# Note on User Proxy Agent and Assistant Agent:\n",
    "-------------------------------------------------\n",
    "\n",
    "\n",
    "## User Proxy Agent:\n",
    "---------------------\n",
    "- In the previous examples, we create the code executor agent directly using the `ConversableAgent` class.\n",
    "- Existing AutoGen examples often create code executor agent using the `UserProxyAgent` class, **which is a subclass of `ConversableAgent`** with `human_input_mode=ALWAYS` and `llm_config=False` – it always requests human input for every message and does not use LLM.\n",
    "- It also comes with default `description` field for each of the `human_input_mode` setting.\n",
    "- This class is a convenient short-cut for creating an agent that is ***intended to be used as a code executor***.\n",
    "\n",
    "## Assistant Agent:\n",
    "---------------------\n",
    "- In the previous examples, we created the code writer agent directly using the `ConversableAgent` class. Existing AutoGen examples often create the code writer agent using the `AssistantAgent` class, **which is a subclass of `ConversableAgent`** with `human_input_mode=NEVER` and `code_execution_config=False` – it never requests human input and does not use code executor.\n",
    "- It also comes with default `system_message` and `description` fields.\n",
    "- This class is a convenient short-cut for creating an agent that is ***intended to be used as a code writer and does not execute code***."
   ]
  },
  {
   "cell_type": "markdown",
   "id": "ccf50310-c777-4d9a-9086-850b927b9fed",
   "metadata": {},
   "source": [
    "- In fact, in the previous example we use the default `system_message` field of the `AssistantAgent` class to instruct the code writer agent how to use code executor."
   ]
  },
  {
   "cell_type": "code",
   "execution_count": 44,
   "id": "8d4dbc6d-43d1-437a-bcb8-0def17a01ea2",
   "metadata": {},
   "outputs": [
    {
     "name": "stdout",
     "output_type": "stream",
     "text": [
      "('You are a helpful AI assistant.\\n'\n",
      " 'Solve tasks using your coding and language skills.\\n'\n",
      " 'In the following cases, suggest python code (in a python coding block) or '\n",
      " 'shell script (in a sh coding block) for the user to execute.\\n'\n",
      " '    1. When you need to collect info, use the code to output the info you '\n",
      " 'need, for example, browse or search the web, download/read a file, print the '\n",
      " 'content of a webpage or a file, get the current date/time, check the '\n",
      " 'operating system. After sufficient info is printed and the task is ready to '\n",
      " 'be solved based on your language skill, you can solve the task by yourself.\\n'\n",
      " '    2. When you need to perform some task with code, use the code to perform '\n",
      " 'the task and output the result. Finish the task smartly.\\n'\n",
      " 'Solve the task step by step if you need to. If a plan is not provided, '\n",
      " 'explain your plan first. Be clear which step uses code, and which step uses '\n",
      " 'your language skill.\\n'\n",
      " 'When using code, you must indicate the script type in the code block. The '\n",
      " 'user cannot provide any other feedback or perform any other action beyond '\n",
      " \"executing the code you suggest. The user can't modify your code. So do not \"\n",
      " \"suggest incomplete code which requires users to modify. Don't use a code \"\n",
      " \"block if it's not intended to be executed by the user.\\n\"\n",
      " 'If you want the user to save the code in a file before executing it, put # '\n",
      " \"filename: <filename> inside the code block as the first line. Don't include \"\n",
      " 'multiple code blocks in one response. Do not ask users to copy and paste the '\n",
      " \"result. Instead, use 'print' function for the output when relevant. Check \"\n",
      " 'the execution result returned by the user.\\n'\n",
      " 'If the result indicates there is an error, fix the error and output the code '\n",
      " 'again. Suggest the full code instead of partial code or code changes. If the '\n",
      " \"error can't be fixed or if the task is not solved even after the code is \"\n",
      " 'executed successfully, analyze the problem, revisit your assumption, collect '\n",
      " 'additional info you need, and think of a different approach to try.\\n'\n",
      " 'When you find an answer, verify the answer carefully. Include verifiable '\n",
      " 'evidence in your response if possible.\\n'\n",
      " 'Reply \"TERMINATE\" in the end when everything is done.\\n'\n",
      " '    ')\n"
     ]
    }
   ],
   "source": [
    "import pprint\n",
    "from autogen import AssistantAgent\n",
    "\n",
    "pprint.pprint(AssistantAgent.DEFAULT_SYSTEM_MESSAGE)"
   ]
  },
  {
   "cell_type": "markdown",
   "id": "6c638df2-77d5-420d-92b4-208f7870a261",
   "metadata": {},
   "source": [
    "# Best Practice:\n",
    "----------------------\n",
    "- It is very important to note that the `UserProxyAgent` and `AssistantAgent` are meant to be shortcuts to avoid writing the `system_message` instructions for the `ConversableAgent` class.\n",
    "- They are not suitable for all use cases.\n",
    "- Tuning the `system_message` field is vital for agent to work properly in more complex conversation patterns beyond two-agent chat.\n",
    "\n",
    "**As a best practice**, always tune your agent’s `system_message` instructions for your specific use case and avoid subclassing `UserProxyAgent` and `AssistantAgent`."
   ]
  },
  {
   "cell_type": "markdown",
   "id": "13e3e60c-4b95-43b8-bed2-b82b9f23dd76",
   "metadata": {},
   "source": [
    "<hr><hr>"
   ]
  },
  {
   "cell_type": "code",
   "execution_count": null,
   "id": "1736740b-2ebc-47db-83ea-73d041b8ccf5",
   "metadata": {},
   "outputs": [],
   "source": []
  }
 ],
 "metadata": {
  "kernelspec": {
   "display_name": "Python 3 (ipykernel)",
   "language": "python",
   "name": "python3"
  },
  "language_info": {
   "codemirror_mode": {
    "name": "ipython",
    "version": 3
   },
   "file_extension": ".py",
   "mimetype": "text/x-python",
   "name": "python",
   "nbconvert_exporter": "python",
   "pygments_lexer": "ipython3",
   "version": "3.10.6"
  }
 },
 "nbformat": 4,
 "nbformat_minor": 5
}
